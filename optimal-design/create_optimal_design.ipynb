{
 "cells": [
  {
   "cell_type": "code",
   "execution_count": 1,
   "metadata": {},
   "outputs": [
    {
     "name": "stderr",
     "output_type": "stream",
     "text": [
      "Loading required package: shiny\n",
      "Registered S3 method overwritten by 'rvest':\n",
      "  method            from\n",
      "  read_xml.response xml2\n"
     ]
    }
   ],
   "source": [
    "library(skpr)"
   ]
  },
  {
   "cell_type": "markdown",
   "metadata": {},
   "source": [
    "# Create Optimal Designs"
   ]
  },
  {
   "cell_type": "markdown",
   "metadata": {},
   "source": [
    "## 3rd Order Polynomial"
   ]
  },
  {
   "cell_type": "code",
   "execution_count": 71,
   "metadata": {},
   "outputs": [],
   "source": [
    "order = 3"
   ]
  },
  {
   "cell_type": "code",
   "execution_count": 72,
   "metadata": {},
   "outputs": [
    {
     "data": {
      "text/html": [
       "<ol class=list-inline>\n",
       "\t<li>5</li>\n",
       "\t<li>11.6666666666667</li>\n",
       "\t<li>18.3333333333333</li>\n",
       "\t<li>25</li>\n",
       "</ol>\n"
      ],
      "text/latex": [
       "\\begin{enumerate*}\n",
       "\\item 5\n",
       "\\item 11.6666666666667\n",
       "\\item 18.3333333333333\n",
       "\\item 25\n",
       "\\end{enumerate*}\n"
      ],
      "text/markdown": [
       "1. 5\n",
       "2. 11.6666666666667\n",
       "3. 18.3333333333333\n",
       "4. 25\n",
       "\n",
       "\n"
      ],
      "text/plain": [
       "[1]  5.00000 11.66667 18.33333 25.00000"
      ]
     },
     "metadata": {},
     "output_type": "display_data"
    }
   ],
   "source": [
    "distance <- seq(from=5, to=25, length.out=order+1)\n",
    "distance"
   ]
  },
  {
   "cell_type": "code",
   "execution_count": 73,
   "metadata": {},
   "outputs": [
    {
     "data": {
      "text/html": [
       "<ol class=list-inline>\n",
       "\t<li>0</li>\n",
       "\t<li>3.33333333333333</li>\n",
       "\t<li>6.66666666666667</li>\n",
       "\t<li>10</li>\n",
       "</ol>\n"
      ],
      "text/latex": [
       "\\begin{enumerate*}\n",
       "\\item 0\n",
       "\\item 3.33333333333333\n",
       "\\item 6.66666666666667\n",
       "\\item 10\n",
       "\\end{enumerate*}\n"
      ],
      "text/markdown": [
       "1. 0\n",
       "2. 3.33333333333333\n",
       "3. 6.66666666666667\n",
       "4. 10\n",
       "\n",
       "\n"
      ],
      "text/plain": [
       "[1]  0.000000  3.333333  6.666667 10.000000"
      ]
     },
     "metadata": {},
     "output_type": "display_data"
    }
   ],
   "source": [
    "height <- seq(from=0, to=10, length.out=order+1)\n",
    "height"
   ]
  },
  {
   "cell_type": "code",
   "execution_count": 74,
   "metadata": {},
   "outputs": [
    {
     "data": {
      "text/html": [
       "<ol class=list-inline>\n",
       "\t<li>34.3</li>\n",
       "\t<li>45.7333333333333</li>\n",
       "\t<li>57.1666666666667</li>\n",
       "\t<li>68.6</li>\n",
       "</ol>\n"
      ],
      "text/latex": [
       "\\begin{enumerate*}\n",
       "\\item 34.3\n",
       "\\item 45.7333333333333\n",
       "\\item 57.1666666666667\n",
       "\\item 68.6\n",
       "\\end{enumerate*}\n"
      ],
      "text/markdown": [
       "1. 34.3\n",
       "2. 45.7333333333333\n",
       "3. 57.1666666666667\n",
       "4. 68.6\n",
       "\n",
       "\n"
      ],
      "text/plain": [
       "[1] 34.30000 45.73333 57.16667 68.60000"
      ]
     },
     "metadata": {},
     "output_type": "display_data"
    }
   ],
   "source": [
    "speed <- seq(from=34.3, to=68.6, length.out=order+1)\n",
    "speed"
   ]
  },
  {
   "cell_type": "code",
   "execution_count": 75,
   "metadata": {
    "scrolled": true
   },
   "outputs": [
    {
     "data": {
      "text/html": [
       "<table>\n",
       "<thead><tr><th scope=col>distance</th><th scope=col>height</th><th scope=col>speed</th></tr></thead>\n",
       "<tbody>\n",
       "\t<tr><td> 5.00000 </td><td> 0.000000</td><td>34.30000 </td></tr>\n",
       "\t<tr><td>11.66667 </td><td> 0.000000</td><td>34.30000 </td></tr>\n",
       "\t<tr><td>18.33333 </td><td> 0.000000</td><td>34.30000 </td></tr>\n",
       "\t<tr><td>25.00000 </td><td> 0.000000</td><td>34.30000 </td></tr>\n",
       "\t<tr><td> 5.00000 </td><td> 3.333333</td><td>34.30000 </td></tr>\n",
       "\t<tr><td>11.66667 </td><td> 3.333333</td><td>34.30000 </td></tr>\n",
       "\t<tr><td>18.33333 </td><td> 3.333333</td><td>34.30000 </td></tr>\n",
       "\t<tr><td>25.00000 </td><td> 3.333333</td><td>34.30000 </td></tr>\n",
       "\t<tr><td> 5.00000 </td><td> 6.666667</td><td>34.30000 </td></tr>\n",
       "\t<tr><td>11.66667 </td><td> 6.666667</td><td>34.30000 </td></tr>\n",
       "\t<tr><td>18.33333 </td><td> 6.666667</td><td>34.30000 </td></tr>\n",
       "\t<tr><td>25.00000 </td><td> 6.666667</td><td>34.30000 </td></tr>\n",
       "\t<tr><td> 5.00000 </td><td>10.000000</td><td>34.30000 </td></tr>\n",
       "\t<tr><td>11.66667 </td><td>10.000000</td><td>34.30000 </td></tr>\n",
       "\t<tr><td>18.33333 </td><td>10.000000</td><td>34.30000 </td></tr>\n",
       "\t<tr><td>25.00000 </td><td>10.000000</td><td>34.30000 </td></tr>\n",
       "\t<tr><td> 5.00000 </td><td> 0.000000</td><td>45.73333 </td></tr>\n",
       "\t<tr><td>11.66667 </td><td> 0.000000</td><td>45.73333 </td></tr>\n",
       "\t<tr><td>18.33333 </td><td> 0.000000</td><td>45.73333 </td></tr>\n",
       "\t<tr><td>25.00000 </td><td> 0.000000</td><td>45.73333 </td></tr>\n",
       "\t<tr><td> 5.00000 </td><td> 3.333333</td><td>45.73333 </td></tr>\n",
       "\t<tr><td>11.66667 </td><td> 3.333333</td><td>45.73333 </td></tr>\n",
       "\t<tr><td>18.33333 </td><td> 3.333333</td><td>45.73333 </td></tr>\n",
       "\t<tr><td>25.00000 </td><td> 3.333333</td><td>45.73333 </td></tr>\n",
       "\t<tr><td> 5.00000 </td><td> 6.666667</td><td>45.73333 </td></tr>\n",
       "\t<tr><td>11.66667 </td><td> 6.666667</td><td>45.73333 </td></tr>\n",
       "\t<tr><td>18.33333 </td><td> 6.666667</td><td>45.73333 </td></tr>\n",
       "\t<tr><td>25.00000 </td><td> 6.666667</td><td>45.73333 </td></tr>\n",
       "\t<tr><td> 5.00000 </td><td>10.000000</td><td>45.73333 </td></tr>\n",
       "\t<tr><td>11.66667 </td><td>10.000000</td><td>45.73333 </td></tr>\n",
       "\t<tr><td>...</td><td>...</td><td>...</td></tr>\n",
       "\t<tr><td>18.33333 </td><td> 0.000000</td><td>57.16667 </td></tr>\n",
       "\t<tr><td>25.00000 </td><td> 0.000000</td><td>57.16667 </td></tr>\n",
       "\t<tr><td> 5.00000 </td><td> 3.333333</td><td>57.16667 </td></tr>\n",
       "\t<tr><td>11.66667 </td><td> 3.333333</td><td>57.16667 </td></tr>\n",
       "\t<tr><td>18.33333 </td><td> 3.333333</td><td>57.16667 </td></tr>\n",
       "\t<tr><td>25.00000 </td><td> 3.333333</td><td>57.16667 </td></tr>\n",
       "\t<tr><td> 5.00000 </td><td> 6.666667</td><td>57.16667 </td></tr>\n",
       "\t<tr><td>11.66667 </td><td> 6.666667</td><td>57.16667 </td></tr>\n",
       "\t<tr><td>18.33333 </td><td> 6.666667</td><td>57.16667 </td></tr>\n",
       "\t<tr><td>25.00000 </td><td> 6.666667</td><td>57.16667 </td></tr>\n",
       "\t<tr><td> 5.00000 </td><td>10.000000</td><td>57.16667 </td></tr>\n",
       "\t<tr><td>11.66667 </td><td>10.000000</td><td>57.16667 </td></tr>\n",
       "\t<tr><td>18.33333 </td><td>10.000000</td><td>57.16667 </td></tr>\n",
       "\t<tr><td>25.00000 </td><td>10.000000</td><td>57.16667 </td></tr>\n",
       "\t<tr><td> 5.00000 </td><td> 0.000000</td><td>68.60000 </td></tr>\n",
       "\t<tr><td>11.66667 </td><td> 0.000000</td><td>68.60000 </td></tr>\n",
       "\t<tr><td>18.33333 </td><td> 0.000000</td><td>68.60000 </td></tr>\n",
       "\t<tr><td>25.00000 </td><td> 0.000000</td><td>68.60000 </td></tr>\n",
       "\t<tr><td> 5.00000 </td><td> 3.333333</td><td>68.60000 </td></tr>\n",
       "\t<tr><td>11.66667 </td><td> 3.333333</td><td>68.60000 </td></tr>\n",
       "\t<tr><td>18.33333 </td><td> 3.333333</td><td>68.60000 </td></tr>\n",
       "\t<tr><td>25.00000 </td><td> 3.333333</td><td>68.60000 </td></tr>\n",
       "\t<tr><td> 5.00000 </td><td> 6.666667</td><td>68.60000 </td></tr>\n",
       "\t<tr><td>11.66667 </td><td> 6.666667</td><td>68.60000 </td></tr>\n",
       "\t<tr><td>18.33333 </td><td> 6.666667</td><td>68.60000 </td></tr>\n",
       "\t<tr><td>25.00000 </td><td> 6.666667</td><td>68.60000 </td></tr>\n",
       "\t<tr><td> 5.00000 </td><td>10.000000</td><td>68.60000 </td></tr>\n",
       "\t<tr><td>11.66667 </td><td>10.000000</td><td>68.60000 </td></tr>\n",
       "\t<tr><td>18.33333 </td><td>10.000000</td><td>68.60000 </td></tr>\n",
       "\t<tr><td>25.00000 </td><td>10.000000</td><td>68.60000 </td></tr>\n",
       "</tbody>\n",
       "</table>\n"
      ],
      "text/latex": [
       "\\begin{tabular}{r|lll}\n",
       " distance & height & speed\\\\\n",
       "\\hline\n",
       "\t  5.00000  &  0.000000 & 34.30000 \\\\\n",
       "\t 11.66667  &  0.000000 & 34.30000 \\\\\n",
       "\t 18.33333  &  0.000000 & 34.30000 \\\\\n",
       "\t 25.00000  &  0.000000 & 34.30000 \\\\\n",
       "\t  5.00000  &  3.333333 & 34.30000 \\\\\n",
       "\t 11.66667  &  3.333333 & 34.30000 \\\\\n",
       "\t 18.33333  &  3.333333 & 34.30000 \\\\\n",
       "\t 25.00000  &  3.333333 & 34.30000 \\\\\n",
       "\t  5.00000  &  6.666667 & 34.30000 \\\\\n",
       "\t 11.66667  &  6.666667 & 34.30000 \\\\\n",
       "\t 18.33333  &  6.666667 & 34.30000 \\\\\n",
       "\t 25.00000  &  6.666667 & 34.30000 \\\\\n",
       "\t  5.00000  & 10.000000 & 34.30000 \\\\\n",
       "\t 11.66667  & 10.000000 & 34.30000 \\\\\n",
       "\t 18.33333  & 10.000000 & 34.30000 \\\\\n",
       "\t 25.00000  & 10.000000 & 34.30000 \\\\\n",
       "\t  5.00000  &  0.000000 & 45.73333 \\\\\n",
       "\t 11.66667  &  0.000000 & 45.73333 \\\\\n",
       "\t 18.33333  &  0.000000 & 45.73333 \\\\\n",
       "\t 25.00000  &  0.000000 & 45.73333 \\\\\n",
       "\t  5.00000  &  3.333333 & 45.73333 \\\\\n",
       "\t 11.66667  &  3.333333 & 45.73333 \\\\\n",
       "\t 18.33333  &  3.333333 & 45.73333 \\\\\n",
       "\t 25.00000  &  3.333333 & 45.73333 \\\\\n",
       "\t  5.00000  &  6.666667 & 45.73333 \\\\\n",
       "\t 11.66667  &  6.666667 & 45.73333 \\\\\n",
       "\t 18.33333  &  6.666667 & 45.73333 \\\\\n",
       "\t 25.00000  &  6.666667 & 45.73333 \\\\\n",
       "\t  5.00000  & 10.000000 & 45.73333 \\\\\n",
       "\t 11.66667  & 10.000000 & 45.73333 \\\\\n",
       "\t ... & ... & ...\\\\\n",
       "\t 18.33333  &  0.000000 & 57.16667 \\\\\n",
       "\t 25.00000  &  0.000000 & 57.16667 \\\\\n",
       "\t  5.00000  &  3.333333 & 57.16667 \\\\\n",
       "\t 11.66667  &  3.333333 & 57.16667 \\\\\n",
       "\t 18.33333  &  3.333333 & 57.16667 \\\\\n",
       "\t 25.00000  &  3.333333 & 57.16667 \\\\\n",
       "\t  5.00000  &  6.666667 & 57.16667 \\\\\n",
       "\t 11.66667  &  6.666667 & 57.16667 \\\\\n",
       "\t 18.33333  &  6.666667 & 57.16667 \\\\\n",
       "\t 25.00000  &  6.666667 & 57.16667 \\\\\n",
       "\t  5.00000  & 10.000000 & 57.16667 \\\\\n",
       "\t 11.66667  & 10.000000 & 57.16667 \\\\\n",
       "\t 18.33333  & 10.000000 & 57.16667 \\\\\n",
       "\t 25.00000  & 10.000000 & 57.16667 \\\\\n",
       "\t  5.00000  &  0.000000 & 68.60000 \\\\\n",
       "\t 11.66667  &  0.000000 & 68.60000 \\\\\n",
       "\t 18.33333  &  0.000000 & 68.60000 \\\\\n",
       "\t 25.00000  &  0.000000 & 68.60000 \\\\\n",
       "\t  5.00000  &  3.333333 & 68.60000 \\\\\n",
       "\t 11.66667  &  3.333333 & 68.60000 \\\\\n",
       "\t 18.33333  &  3.333333 & 68.60000 \\\\\n",
       "\t 25.00000  &  3.333333 & 68.60000 \\\\\n",
       "\t  5.00000  &  6.666667 & 68.60000 \\\\\n",
       "\t 11.66667  &  6.666667 & 68.60000 \\\\\n",
       "\t 18.33333  &  6.666667 & 68.60000 \\\\\n",
       "\t 25.00000  &  6.666667 & 68.60000 \\\\\n",
       "\t  5.00000  & 10.000000 & 68.60000 \\\\\n",
       "\t 11.66667  & 10.000000 & 68.60000 \\\\\n",
       "\t 18.33333  & 10.000000 & 68.60000 \\\\\n",
       "\t 25.00000  & 10.000000 & 68.60000 \\\\\n",
       "\\end{tabular}\n"
      ],
      "text/markdown": [
       "\n",
       "| distance | height | speed |\n",
       "|---|---|---|\n",
       "|  5.00000  |  0.000000 | 34.30000  |\n",
       "| 11.66667  |  0.000000 | 34.30000  |\n",
       "| 18.33333  |  0.000000 | 34.30000  |\n",
       "| 25.00000  |  0.000000 | 34.30000  |\n",
       "|  5.00000  |  3.333333 | 34.30000  |\n",
       "| 11.66667  |  3.333333 | 34.30000  |\n",
       "| 18.33333  |  3.333333 | 34.30000  |\n",
       "| 25.00000  |  3.333333 | 34.30000  |\n",
       "|  5.00000  |  6.666667 | 34.30000  |\n",
       "| 11.66667  |  6.666667 | 34.30000  |\n",
       "| 18.33333  |  6.666667 | 34.30000  |\n",
       "| 25.00000  |  6.666667 | 34.30000  |\n",
       "|  5.00000  | 10.000000 | 34.30000  |\n",
       "| 11.66667  | 10.000000 | 34.30000  |\n",
       "| 18.33333  | 10.000000 | 34.30000  |\n",
       "| 25.00000  | 10.000000 | 34.30000  |\n",
       "|  5.00000  |  0.000000 | 45.73333  |\n",
       "| 11.66667  |  0.000000 | 45.73333  |\n",
       "| 18.33333  |  0.000000 | 45.73333  |\n",
       "| 25.00000  |  0.000000 | 45.73333  |\n",
       "|  5.00000  |  3.333333 | 45.73333  |\n",
       "| 11.66667  |  3.333333 | 45.73333  |\n",
       "| 18.33333  |  3.333333 | 45.73333  |\n",
       "| 25.00000  |  3.333333 | 45.73333  |\n",
       "|  5.00000  |  6.666667 | 45.73333  |\n",
       "| 11.66667  |  6.666667 | 45.73333  |\n",
       "| 18.33333  |  6.666667 | 45.73333  |\n",
       "| 25.00000  |  6.666667 | 45.73333  |\n",
       "|  5.00000  | 10.000000 | 45.73333  |\n",
       "| 11.66667  | 10.000000 | 45.73333  |\n",
       "| ... | ... | ... |\n",
       "| 18.33333  |  0.000000 | 57.16667  |\n",
       "| 25.00000  |  0.000000 | 57.16667  |\n",
       "|  5.00000  |  3.333333 | 57.16667  |\n",
       "| 11.66667  |  3.333333 | 57.16667  |\n",
       "| 18.33333  |  3.333333 | 57.16667  |\n",
       "| 25.00000  |  3.333333 | 57.16667  |\n",
       "|  5.00000  |  6.666667 | 57.16667  |\n",
       "| 11.66667  |  6.666667 | 57.16667  |\n",
       "| 18.33333  |  6.666667 | 57.16667  |\n",
       "| 25.00000  |  6.666667 | 57.16667  |\n",
       "|  5.00000  | 10.000000 | 57.16667  |\n",
       "| 11.66667  | 10.000000 | 57.16667  |\n",
       "| 18.33333  | 10.000000 | 57.16667  |\n",
       "| 25.00000  | 10.000000 | 57.16667  |\n",
       "|  5.00000  |  0.000000 | 68.60000  |\n",
       "| 11.66667  |  0.000000 | 68.60000  |\n",
       "| 18.33333  |  0.000000 | 68.60000  |\n",
       "| 25.00000  |  0.000000 | 68.60000  |\n",
       "|  5.00000  |  3.333333 | 68.60000  |\n",
       "| 11.66667  |  3.333333 | 68.60000  |\n",
       "| 18.33333  |  3.333333 | 68.60000  |\n",
       "| 25.00000  |  3.333333 | 68.60000  |\n",
       "|  5.00000  |  6.666667 | 68.60000  |\n",
       "| 11.66667  |  6.666667 | 68.60000  |\n",
       "| 18.33333  |  6.666667 | 68.60000  |\n",
       "| 25.00000  |  6.666667 | 68.60000  |\n",
       "|  5.00000  | 10.000000 | 68.60000  |\n",
       "| 11.66667  | 10.000000 | 68.60000  |\n",
       "| 18.33333  | 10.000000 | 68.60000  |\n",
       "| 25.00000  | 10.000000 | 68.60000  |\n",
       "\n"
      ],
      "text/plain": [
       "    distance height    speed   \n",
       "1    5.00000  0.000000 34.30000\n",
       "2   11.66667  0.000000 34.30000\n",
       "3   18.33333  0.000000 34.30000\n",
       "4   25.00000  0.000000 34.30000\n",
       "5    5.00000  3.333333 34.30000\n",
       "6   11.66667  3.333333 34.30000\n",
       "7   18.33333  3.333333 34.30000\n",
       "8   25.00000  3.333333 34.30000\n",
       "9    5.00000  6.666667 34.30000\n",
       "10  11.66667  6.666667 34.30000\n",
       "11  18.33333  6.666667 34.30000\n",
       "12  25.00000  6.666667 34.30000\n",
       "13   5.00000 10.000000 34.30000\n",
       "14  11.66667 10.000000 34.30000\n",
       "15  18.33333 10.000000 34.30000\n",
       "16  25.00000 10.000000 34.30000\n",
       "17   5.00000  0.000000 45.73333\n",
       "18  11.66667  0.000000 45.73333\n",
       "19  18.33333  0.000000 45.73333\n",
       "20  25.00000  0.000000 45.73333\n",
       "21   5.00000  3.333333 45.73333\n",
       "22  11.66667  3.333333 45.73333\n",
       "23  18.33333  3.333333 45.73333\n",
       "24  25.00000  3.333333 45.73333\n",
       "25   5.00000  6.666667 45.73333\n",
       "26  11.66667  6.666667 45.73333\n",
       "27  18.33333  6.666667 45.73333\n",
       "28  25.00000  6.666667 45.73333\n",
       "29   5.00000 10.000000 45.73333\n",
       "30  11.66667 10.000000 45.73333\n",
       "... ...      ...       ...     \n",
       "35  18.33333  0.000000 57.16667\n",
       "36  25.00000  0.000000 57.16667\n",
       "37   5.00000  3.333333 57.16667\n",
       "38  11.66667  3.333333 57.16667\n",
       "39  18.33333  3.333333 57.16667\n",
       "40  25.00000  3.333333 57.16667\n",
       "41   5.00000  6.666667 57.16667\n",
       "42  11.66667  6.666667 57.16667\n",
       "43  18.33333  6.666667 57.16667\n",
       "44  25.00000  6.666667 57.16667\n",
       "45   5.00000 10.000000 57.16667\n",
       "46  11.66667 10.000000 57.16667\n",
       "47  18.33333 10.000000 57.16667\n",
       "48  25.00000 10.000000 57.16667\n",
       "49   5.00000  0.000000 68.60000\n",
       "50  11.66667  0.000000 68.60000\n",
       "51  18.33333  0.000000 68.60000\n",
       "52  25.00000  0.000000 68.60000\n",
       "53   5.00000  3.333333 68.60000\n",
       "54  11.66667  3.333333 68.60000\n",
       "55  18.33333  3.333333 68.60000\n",
       "56  25.00000  3.333333 68.60000\n",
       "57   5.00000  6.666667 68.60000\n",
       "58  11.66667  6.666667 68.60000\n",
       "59  18.33333  6.666667 68.60000\n",
       "60  25.00000  6.666667 68.60000\n",
       "61   5.00000 10.000000 68.60000\n",
       "62  11.66667 10.000000 68.60000\n",
       "63  18.33333 10.000000 68.60000\n",
       "64  25.00000 10.000000 68.60000"
      ]
     },
     "metadata": {},
     "output_type": "display_data"
    }
   ],
   "source": [
    "factorial <- expand.grid(distance=distance, height=height, speed=speed)\n",
    "factorial"
   ]
  },
  {
   "cell_type": "code",
   "execution_count": 76,
   "metadata": {},
   "outputs": [
    {
     "data": {
      "text/html": [
       "64"
      ],
      "text/latex": [
       "64"
      ],
      "text/markdown": [
       "64"
      ],
      "text/plain": [
       "[1] 64"
      ]
     },
     "metadata": {},
     "output_type": "display_data"
    }
   ],
   "source": [
    "nrow(factorial)"
   ]
  },
  {
   "cell_type": "raw",
   "metadata": {},
   "source": [
    "m3 <- ~ distance + height + speed + \n",
    "    I(distance^2) + I(height^2) + I(speed^2) + \n",
    "    distance*height + height*speed + speed*distance + \n",
    "    I(distance^3) + I(height^3) + I(speed^3) + \n",
    "    distance*distance*height + distance*height*speed + speed*distance*distance + \n",
    "    distance*height*height + height*height*speed + \n",
    "    height*speed*speed + speed*speed*distance"
   ]
  },
  {
   "cell_type": "code",
   "execution_count": 77,
   "metadata": {},
   "outputs": [
    {
     "data": {
      "text/plain": [
       "~distance + height + speed + I(distance^2) + I(height^2) + I(speed^2) + \n",
       "    distance * height + height * speed + speed * distance + I(distance^3) + \n",
       "    I(height^3) + I(speed^3) + distance * distance * height + \n",
       "    distance * height * speed + speed * distance * distance + \n",
       "    distance * height * height + height * height * speed + height * \n",
       "    speed * speed + speed * speed * distance"
      ]
     },
     "metadata": {},
     "output_type": "display_data"
    }
   ],
   "source": [
    "m3"
   ]
  },
  {
   "cell_type": "code",
   "execution_count": 78,
   "metadata": {},
   "outputs": [],
   "source": [
    "d25 <- gen_design(candidateset=factorial, model=m3, trials=25, optimality='D')\n",
    "d50 <- gen_design(candidateset=factorial, model=m3, trials=50, optimality='D')\n",
    "d75 <- gen_design(candidateset=factorial, model=m3, trials=75, optimality='D')\n",
    "d100 <- gen_design(candidateset=factorial, model=m3, trials=100, optimality='D')"
   ]
  },
  {
   "cell_type": "code",
   "execution_count": 79,
   "metadata": {},
   "outputs": [],
   "source": [
    "i25 <- gen_design(candidateset=factorial, model=m3, trials=25, optimality='I')\n",
    "i50 <- gen_design(candidateset=factorial, model=m3, trials=50, optimality='I')\n",
    "i75 <- gen_design(candidateset=factorial, model=m3, trials=75, optimality='I')\n",
    "i100 <- gen_design(candidateset=factorial, model=m3, trials=100, optimality='I')"
   ]
  },
  {
   "cell_type": "code",
   "execution_count": 80,
   "metadata": {},
   "outputs": [],
   "source": [
    "write.csv(d25, file='d25.csv')\n",
    "write.csv(d50, file='d50.csv')\n",
    "write.csv(d75, file='d75.csv')\n",
    "write.csv(d100, file='d100.csv')"
   ]
  },
  {
   "cell_type": "code",
   "execution_count": 81,
   "metadata": {},
   "outputs": [],
   "source": [
    "write.csv(i25, file='i25.csv')\n",
    "write.csv(i50, file='i50.csv')\n",
    "write.csv(i75, file='i75.csv')\n",
    "write.csv(i100, file='i100.csv')"
   ]
  },
  {
   "cell_type": "markdown",
   "metadata": {},
   "source": [
    "## 5th order polynomial"
   ]
  },
  {
   "cell_type": "code",
   "execution_count": 84,
   "metadata": {},
   "outputs": [],
   "source": [
    "order = 5"
   ]
  },
  {
   "cell_type": "code",
   "execution_count": 85,
   "metadata": {},
   "outputs": [
    {
     "data": {
      "text/html": [
       "<ol class=list-inline>\n",
       "\t<li>5</li>\n",
       "\t<li>9</li>\n",
       "\t<li>13</li>\n",
       "\t<li>17</li>\n",
       "\t<li>21</li>\n",
       "\t<li>25</li>\n",
       "</ol>\n"
      ],
      "text/latex": [
       "\\begin{enumerate*}\n",
       "\\item 5\n",
       "\\item 9\n",
       "\\item 13\n",
       "\\item 17\n",
       "\\item 21\n",
       "\\item 25\n",
       "\\end{enumerate*}\n"
      ],
      "text/markdown": [
       "1. 5\n",
       "2. 9\n",
       "3. 13\n",
       "4. 17\n",
       "5. 21\n",
       "6. 25\n",
       "\n",
       "\n"
      ],
      "text/plain": [
       "[1]  5  9 13 17 21 25"
      ]
     },
     "metadata": {},
     "output_type": "display_data"
    }
   ],
   "source": [
    "distance <- seq(from=5, to=25, length.out=order+1)\n",
    "distance"
   ]
  },
  {
   "cell_type": "code",
   "execution_count": 86,
   "metadata": {},
   "outputs": [
    {
     "data": {
      "text/html": [
       "<ol class=list-inline>\n",
       "\t<li>0</li>\n",
       "\t<li>2</li>\n",
       "\t<li>4</li>\n",
       "\t<li>6</li>\n",
       "\t<li>8</li>\n",
       "\t<li>10</li>\n",
       "</ol>\n"
      ],
      "text/latex": [
       "\\begin{enumerate*}\n",
       "\\item 0\n",
       "\\item 2\n",
       "\\item 4\n",
       "\\item 6\n",
       "\\item 8\n",
       "\\item 10\n",
       "\\end{enumerate*}\n"
      ],
      "text/markdown": [
       "1. 0\n",
       "2. 2\n",
       "3. 4\n",
       "4. 6\n",
       "5. 8\n",
       "6. 10\n",
       "\n",
       "\n"
      ],
      "text/plain": [
       "[1]  0  2  4  6  8 10"
      ]
     },
     "metadata": {},
     "output_type": "display_data"
    }
   ],
   "source": [
    "height <- seq(from=0, to=10, length.out=order+1)\n",
    "height"
   ]
  },
  {
   "cell_type": "code",
   "execution_count": 87,
   "metadata": {},
   "outputs": [
    {
     "data": {
      "text/html": [
       "<ol class=list-inline>\n",
       "\t<li>34.3</li>\n",
       "\t<li>41.16</li>\n",
       "\t<li>48.02</li>\n",
       "\t<li>54.88</li>\n",
       "\t<li>61.74</li>\n",
       "\t<li>68.6</li>\n",
       "</ol>\n"
      ],
      "text/latex": [
       "\\begin{enumerate*}\n",
       "\\item 34.3\n",
       "\\item 41.16\n",
       "\\item 48.02\n",
       "\\item 54.88\n",
       "\\item 61.74\n",
       "\\item 68.6\n",
       "\\end{enumerate*}\n"
      ],
      "text/markdown": [
       "1. 34.3\n",
       "2. 41.16\n",
       "3. 48.02\n",
       "4. 54.88\n",
       "5. 61.74\n",
       "6. 68.6\n",
       "\n",
       "\n"
      ],
      "text/plain": [
       "[1] 34.30 41.16 48.02 54.88 61.74 68.60"
      ]
     },
     "metadata": {},
     "output_type": "display_data"
    }
   ],
   "source": [
    "speed <- seq(from=34.3, to=68.6, length.out=order+1)\n",
    "speed"
   ]
  },
  {
   "cell_type": "code",
   "execution_count": 88,
   "metadata": {
    "scrolled": true
   },
   "outputs": [
    {
     "data": {
      "text/html": [
       "<table>\n",
       "<thead><tr><th scope=col>distance</th><th scope=col>height</th><th scope=col>speed</th></tr></thead>\n",
       "<tbody>\n",
       "\t<tr><td> 5  </td><td>0   </td><td>34.3</td></tr>\n",
       "\t<tr><td> 9  </td><td>0   </td><td>34.3</td></tr>\n",
       "\t<tr><td>13  </td><td>0   </td><td>34.3</td></tr>\n",
       "\t<tr><td>17  </td><td>0   </td><td>34.3</td></tr>\n",
       "\t<tr><td>21  </td><td>0   </td><td>34.3</td></tr>\n",
       "\t<tr><td>25  </td><td>0   </td><td>34.3</td></tr>\n",
       "\t<tr><td> 5  </td><td>2   </td><td>34.3</td></tr>\n",
       "\t<tr><td> 9  </td><td>2   </td><td>34.3</td></tr>\n",
       "\t<tr><td>13  </td><td>2   </td><td>34.3</td></tr>\n",
       "\t<tr><td>17  </td><td>2   </td><td>34.3</td></tr>\n",
       "\t<tr><td>21  </td><td>2   </td><td>34.3</td></tr>\n",
       "\t<tr><td>25  </td><td>2   </td><td>34.3</td></tr>\n",
       "\t<tr><td> 5  </td><td>4   </td><td>34.3</td></tr>\n",
       "\t<tr><td> 9  </td><td>4   </td><td>34.3</td></tr>\n",
       "\t<tr><td>13  </td><td>4   </td><td>34.3</td></tr>\n",
       "\t<tr><td>17  </td><td>4   </td><td>34.3</td></tr>\n",
       "\t<tr><td>21  </td><td>4   </td><td>34.3</td></tr>\n",
       "\t<tr><td>25  </td><td>4   </td><td>34.3</td></tr>\n",
       "\t<tr><td> 5  </td><td>6   </td><td>34.3</td></tr>\n",
       "\t<tr><td> 9  </td><td>6   </td><td>34.3</td></tr>\n",
       "\t<tr><td>13  </td><td>6   </td><td>34.3</td></tr>\n",
       "\t<tr><td>17  </td><td>6   </td><td>34.3</td></tr>\n",
       "\t<tr><td>21  </td><td>6   </td><td>34.3</td></tr>\n",
       "\t<tr><td>25  </td><td>6   </td><td>34.3</td></tr>\n",
       "\t<tr><td> 5  </td><td>8   </td><td>34.3</td></tr>\n",
       "\t<tr><td> 9  </td><td>8   </td><td>34.3</td></tr>\n",
       "\t<tr><td>13  </td><td>8   </td><td>34.3</td></tr>\n",
       "\t<tr><td>17  </td><td>8   </td><td>34.3</td></tr>\n",
       "\t<tr><td>21  </td><td>8   </td><td>34.3</td></tr>\n",
       "\t<tr><td>25  </td><td>8   </td><td>34.3</td></tr>\n",
       "\t<tr><td>...</td><td>...</td><td>...</td></tr>\n",
       "\t<tr><td> 5  </td><td> 2  </td><td>68.6</td></tr>\n",
       "\t<tr><td> 9  </td><td> 2  </td><td>68.6</td></tr>\n",
       "\t<tr><td>13  </td><td> 2  </td><td>68.6</td></tr>\n",
       "\t<tr><td>17  </td><td> 2  </td><td>68.6</td></tr>\n",
       "\t<tr><td>21  </td><td> 2  </td><td>68.6</td></tr>\n",
       "\t<tr><td>25  </td><td> 2  </td><td>68.6</td></tr>\n",
       "\t<tr><td> 5  </td><td> 4  </td><td>68.6</td></tr>\n",
       "\t<tr><td> 9  </td><td> 4  </td><td>68.6</td></tr>\n",
       "\t<tr><td>13  </td><td> 4  </td><td>68.6</td></tr>\n",
       "\t<tr><td>17  </td><td> 4  </td><td>68.6</td></tr>\n",
       "\t<tr><td>21  </td><td> 4  </td><td>68.6</td></tr>\n",
       "\t<tr><td>25  </td><td> 4  </td><td>68.6</td></tr>\n",
       "\t<tr><td> 5  </td><td> 6  </td><td>68.6</td></tr>\n",
       "\t<tr><td> 9  </td><td> 6  </td><td>68.6</td></tr>\n",
       "\t<tr><td>13  </td><td> 6  </td><td>68.6</td></tr>\n",
       "\t<tr><td>17  </td><td> 6  </td><td>68.6</td></tr>\n",
       "\t<tr><td>21  </td><td> 6  </td><td>68.6</td></tr>\n",
       "\t<tr><td>25  </td><td> 6  </td><td>68.6</td></tr>\n",
       "\t<tr><td> 5  </td><td> 8  </td><td>68.6</td></tr>\n",
       "\t<tr><td> 9  </td><td> 8  </td><td>68.6</td></tr>\n",
       "\t<tr><td>13  </td><td> 8  </td><td>68.6</td></tr>\n",
       "\t<tr><td>17  </td><td> 8  </td><td>68.6</td></tr>\n",
       "\t<tr><td>21  </td><td> 8  </td><td>68.6</td></tr>\n",
       "\t<tr><td>25  </td><td> 8  </td><td>68.6</td></tr>\n",
       "\t<tr><td> 5  </td><td>10  </td><td>68.6</td></tr>\n",
       "\t<tr><td> 9  </td><td>10  </td><td>68.6</td></tr>\n",
       "\t<tr><td>13  </td><td>10  </td><td>68.6</td></tr>\n",
       "\t<tr><td>17  </td><td>10  </td><td>68.6</td></tr>\n",
       "\t<tr><td>21  </td><td>10  </td><td>68.6</td></tr>\n",
       "\t<tr><td>25  </td><td>10  </td><td>68.6</td></tr>\n",
       "</tbody>\n",
       "</table>\n"
      ],
      "text/latex": [
       "\\begin{tabular}{r|lll}\n",
       " distance & height & speed\\\\\n",
       "\\hline\n",
       "\t  5   & 0    & 34.3\\\\\n",
       "\t  9   & 0    & 34.3\\\\\n",
       "\t 13   & 0    & 34.3\\\\\n",
       "\t 17   & 0    & 34.3\\\\\n",
       "\t 21   & 0    & 34.3\\\\\n",
       "\t 25   & 0    & 34.3\\\\\n",
       "\t  5   & 2    & 34.3\\\\\n",
       "\t  9   & 2    & 34.3\\\\\n",
       "\t 13   & 2    & 34.3\\\\\n",
       "\t 17   & 2    & 34.3\\\\\n",
       "\t 21   & 2    & 34.3\\\\\n",
       "\t 25   & 2    & 34.3\\\\\n",
       "\t  5   & 4    & 34.3\\\\\n",
       "\t  9   & 4    & 34.3\\\\\n",
       "\t 13   & 4    & 34.3\\\\\n",
       "\t 17   & 4    & 34.3\\\\\n",
       "\t 21   & 4    & 34.3\\\\\n",
       "\t 25   & 4    & 34.3\\\\\n",
       "\t  5   & 6    & 34.3\\\\\n",
       "\t  9   & 6    & 34.3\\\\\n",
       "\t 13   & 6    & 34.3\\\\\n",
       "\t 17   & 6    & 34.3\\\\\n",
       "\t 21   & 6    & 34.3\\\\\n",
       "\t 25   & 6    & 34.3\\\\\n",
       "\t  5   & 8    & 34.3\\\\\n",
       "\t  9   & 8    & 34.3\\\\\n",
       "\t 13   & 8    & 34.3\\\\\n",
       "\t 17   & 8    & 34.3\\\\\n",
       "\t 21   & 8    & 34.3\\\\\n",
       "\t 25   & 8    & 34.3\\\\\n",
       "\t ... & ... & ...\\\\\n",
       "\t  5   &  2   & 68.6\\\\\n",
       "\t  9   &  2   & 68.6\\\\\n",
       "\t 13   &  2   & 68.6\\\\\n",
       "\t 17   &  2   & 68.6\\\\\n",
       "\t 21   &  2   & 68.6\\\\\n",
       "\t 25   &  2   & 68.6\\\\\n",
       "\t  5   &  4   & 68.6\\\\\n",
       "\t  9   &  4   & 68.6\\\\\n",
       "\t 13   &  4   & 68.6\\\\\n",
       "\t 17   &  4   & 68.6\\\\\n",
       "\t 21   &  4   & 68.6\\\\\n",
       "\t 25   &  4   & 68.6\\\\\n",
       "\t  5   &  6   & 68.6\\\\\n",
       "\t  9   &  6   & 68.6\\\\\n",
       "\t 13   &  6   & 68.6\\\\\n",
       "\t 17   &  6   & 68.6\\\\\n",
       "\t 21   &  6   & 68.6\\\\\n",
       "\t 25   &  6   & 68.6\\\\\n",
       "\t  5   &  8   & 68.6\\\\\n",
       "\t  9   &  8   & 68.6\\\\\n",
       "\t 13   &  8   & 68.6\\\\\n",
       "\t 17   &  8   & 68.6\\\\\n",
       "\t 21   &  8   & 68.6\\\\\n",
       "\t 25   &  8   & 68.6\\\\\n",
       "\t  5   & 10   & 68.6\\\\\n",
       "\t  9   & 10   & 68.6\\\\\n",
       "\t 13   & 10   & 68.6\\\\\n",
       "\t 17   & 10   & 68.6\\\\\n",
       "\t 21   & 10   & 68.6\\\\\n",
       "\t 25   & 10   & 68.6\\\\\n",
       "\\end{tabular}\n"
      ],
      "text/markdown": [
       "\n",
       "| distance | height | speed |\n",
       "|---|---|---|\n",
       "|  5   | 0    | 34.3 |\n",
       "|  9   | 0    | 34.3 |\n",
       "| 13   | 0    | 34.3 |\n",
       "| 17   | 0    | 34.3 |\n",
       "| 21   | 0    | 34.3 |\n",
       "| 25   | 0    | 34.3 |\n",
       "|  5   | 2    | 34.3 |\n",
       "|  9   | 2    | 34.3 |\n",
       "| 13   | 2    | 34.3 |\n",
       "| 17   | 2    | 34.3 |\n",
       "| 21   | 2    | 34.3 |\n",
       "| 25   | 2    | 34.3 |\n",
       "|  5   | 4    | 34.3 |\n",
       "|  9   | 4    | 34.3 |\n",
       "| 13   | 4    | 34.3 |\n",
       "| 17   | 4    | 34.3 |\n",
       "| 21   | 4    | 34.3 |\n",
       "| 25   | 4    | 34.3 |\n",
       "|  5   | 6    | 34.3 |\n",
       "|  9   | 6    | 34.3 |\n",
       "| 13   | 6    | 34.3 |\n",
       "| 17   | 6    | 34.3 |\n",
       "| 21   | 6    | 34.3 |\n",
       "| 25   | 6    | 34.3 |\n",
       "|  5   | 8    | 34.3 |\n",
       "|  9   | 8    | 34.3 |\n",
       "| 13   | 8    | 34.3 |\n",
       "| 17   | 8    | 34.3 |\n",
       "| 21   | 8    | 34.3 |\n",
       "| 25   | 8    | 34.3 |\n",
       "| ... | ... | ... |\n",
       "|  5   |  2   | 68.6 |\n",
       "|  9   |  2   | 68.6 |\n",
       "| 13   |  2   | 68.6 |\n",
       "| 17   |  2   | 68.6 |\n",
       "| 21   |  2   | 68.6 |\n",
       "| 25   |  2   | 68.6 |\n",
       "|  5   |  4   | 68.6 |\n",
       "|  9   |  4   | 68.6 |\n",
       "| 13   |  4   | 68.6 |\n",
       "| 17   |  4   | 68.6 |\n",
       "| 21   |  4   | 68.6 |\n",
       "| 25   |  4   | 68.6 |\n",
       "|  5   |  6   | 68.6 |\n",
       "|  9   |  6   | 68.6 |\n",
       "| 13   |  6   | 68.6 |\n",
       "| 17   |  6   | 68.6 |\n",
       "| 21   |  6   | 68.6 |\n",
       "| 25   |  6   | 68.6 |\n",
       "|  5   |  8   | 68.6 |\n",
       "|  9   |  8   | 68.6 |\n",
       "| 13   |  8   | 68.6 |\n",
       "| 17   |  8   | 68.6 |\n",
       "| 21   |  8   | 68.6 |\n",
       "| 25   |  8   | 68.6 |\n",
       "|  5   | 10   | 68.6 |\n",
       "|  9   | 10   | 68.6 |\n",
       "| 13   | 10   | 68.6 |\n",
       "| 17   | 10   | 68.6 |\n",
       "| 21   | 10   | 68.6 |\n",
       "| 25   | 10   | 68.6 |\n",
       "\n"
      ],
      "text/plain": [
       "    distance height speed\n",
       "1    5       0      34.3 \n",
       "2    9       0      34.3 \n",
       "3   13       0      34.3 \n",
       "4   17       0      34.3 \n",
       "5   21       0      34.3 \n",
       "6   25       0      34.3 \n",
       "7    5       2      34.3 \n",
       "8    9       2      34.3 \n",
       "9   13       2      34.3 \n",
       "10  17       2      34.3 \n",
       "11  21       2      34.3 \n",
       "12  25       2      34.3 \n",
       "13   5       4      34.3 \n",
       "14   9       4      34.3 \n",
       "15  13       4      34.3 \n",
       "16  17       4      34.3 \n",
       "17  21       4      34.3 \n",
       "18  25       4      34.3 \n",
       "19   5       6      34.3 \n",
       "20   9       6      34.3 \n",
       "21  13       6      34.3 \n",
       "22  17       6      34.3 \n",
       "23  21       6      34.3 \n",
       "24  25       6      34.3 \n",
       "25   5       8      34.3 \n",
       "26   9       8      34.3 \n",
       "27  13       8      34.3 \n",
       "28  17       8      34.3 \n",
       "29  21       8      34.3 \n",
       "30  25       8      34.3 \n",
       "... ...      ...    ...  \n",
       "187  5        2     68.6 \n",
       "188  9        2     68.6 \n",
       "189 13        2     68.6 \n",
       "190 17        2     68.6 \n",
       "191 21        2     68.6 \n",
       "192 25        2     68.6 \n",
       "193  5        4     68.6 \n",
       "194  9        4     68.6 \n",
       "195 13        4     68.6 \n",
       "196 17        4     68.6 \n",
       "197 21        4     68.6 \n",
       "198 25        4     68.6 \n",
       "199  5        6     68.6 \n",
       "200  9        6     68.6 \n",
       "201 13        6     68.6 \n",
       "202 17        6     68.6 \n",
       "203 21        6     68.6 \n",
       "204 25        6     68.6 \n",
       "205  5        8     68.6 \n",
       "206  9        8     68.6 \n",
       "207 13        8     68.6 \n",
       "208 17        8     68.6 \n",
       "209 21        8     68.6 \n",
       "210 25        8     68.6 \n",
       "211  5       10     68.6 \n",
       "212  9       10     68.6 \n",
       "213 13       10     68.6 \n",
       "214 17       10     68.6 \n",
       "215 21       10     68.6 \n",
       "216 25       10     68.6 "
      ]
     },
     "metadata": {},
     "output_type": "display_data"
    }
   ],
   "source": [
    "factorial <- expand.grid(distance=distance, height=height, speed=speed)\n",
    "factorial"
   ]
  },
  {
   "cell_type": "code",
   "execution_count": 82,
   "metadata": {},
   "outputs": [],
   "source": [
    "m5 <- ~ distance + height + speed + \n",
    "    I(distance^2) + I(height^2) + I(speed^2) + \n",
    "    distance*height + height*speed + speed*distance + \n",
    "    I(distance^3) + distance*distance*height + distance*distance*speed + \n",
    "    I(height^3) + height*height*distance + height*height*speed + \n",
    "    I(speed^3) + speed*speed*height + speed*speed*distance +\n",
    "    distance*height*speed + \n",
    "    I(distance^4) + distance*distance*distance*height + distance*distance*distance*speed + \n",
    "    distance*distance*height*height + distance*distance*height*speed + distance*distance*speed*speed +\n",
    "    I(height^4) + height*height*height*distance + height*height*height*speed + \n",
    "    I(speed^4) + speed*speed*height + speed*speed*distance +\n",
    "    distance*height*speed + "
   ]
  },
  {
   "cell_type": "code",
   "execution_count": 83,
   "metadata": {},
   "outputs": [
    {
     "data": {
      "text/plain": [
       "~distance + height + speed + I(distance^2) + I(height^2) + I(speed^2) + \n",
       "    distance * height + height * speed + speed * distance + I(distance^3) + \n",
       "    distance * distance * height + distance * distance * speed + \n",
       "    I(height^3) + height * height * distance + height * height * \n",
       "    speed + I(speed^3) + speed * speed * height + speed * speed * \n",
       "    distance + distance * height * speed"
      ]
     },
     "metadata": {},
     "output_type": "display_data"
    }
   ],
   "source": [
    "m5"
   ]
  },
  {
   "cell_type": "code",
   "execution_count": 55,
   "metadata": {},
   "outputs": [],
   "source": [
    "d25 <- gen_design(candidateset=factorial, model=m3, trials=25, optimality='D')\n",
    "d50 <- gen_design(candidateset=factorial, model=m3, trials=50, optimality='D')\n",
    "d75 <- gen_design(candidateset=factorial, model=m3, trials=75, optimality='D')\n",
    "d100 <- gen_design(candidateset=factorial, model=m3, trials=100, optimality='D')"
   ]
  },
  {
   "cell_type": "code",
   "execution_count": 56,
   "metadata": {},
   "outputs": [],
   "source": [
    "i25 <- gen_design(candidateset=factorial, model=m3, trials=25, optimality='I')\n",
    "i50 <- gen_design(candidateset=factorial, model=m3, trials=50, optimality='I')\n",
    "i75 <- gen_design(candidateset=factorial, model=m3, trials=75, optimality='I')\n",
    "i100 <- gen_design(candidateset=factorial, model=m3, trials=100, optimality='I')"
   ]
  },
  {
   "cell_type": "code",
   "execution_count": 69,
   "metadata": {},
   "outputs": [],
   "source": [
    "write.csv(d25, file='d25.csv')\n",
    "write.csv(d50, file='d50.csv')\n",
    "write.csv(d75, file='d75.csv')\n",
    "write.csv(d100, file='d100.csv')"
   ]
  },
  {
   "cell_type": "code",
   "execution_count": 70,
   "metadata": {},
   "outputs": [],
   "source": [
    "write.csv(i25, file='i25.csv')\n",
    "write.csv(i50, file='i50.csv')\n",
    "write.csv(i75, file='i75.csv')\n",
    "write.csv(i100, file='i100.csv')"
   ]
  },
  {
   "cell_type": "code",
   "execution_count": 65,
   "metadata": {},
   "outputs": [
    {
     "data": {
      "text/html": [
       "<table>\n",
       "<thead><tr><th scope=col>parameter</th><th scope=col>type</th><th scope=col>power</th></tr></thead>\n",
       "<tbody>\n",
       "\t<tr><td>(Intercept)          </td><td>effect.power         </td><td>0.9925940            </td></tr>\n",
       "\t<tr><td>distance             </td><td>effect.power         </td><td>0.9387701            </td></tr>\n",
       "\t<tr><td>height               </td><td>effect.power         </td><td>0.9385410            </td></tr>\n",
       "\t<tr><td>speed                </td><td>effect.power         </td><td>0.9311129            </td></tr>\n",
       "\t<tr><td>I(distance^2)        </td><td>effect.power         </td><td>0.9971802            </td></tr>\n",
       "\t<tr><td>I(height^2)          </td><td>effect.power         </td><td>0.9971809            </td></tr>\n",
       "\t<tr><td>I(speed^2)           </td><td>effect.power         </td><td>0.9968171            </td></tr>\n",
       "\t<tr><td>I(distance^3)        </td><td>effect.power         </td><td>0.9225294            </td></tr>\n",
       "\t<tr><td>I(height^3)          </td><td>effect.power         </td><td>0.9221881            </td></tr>\n",
       "\t<tr><td>I(speed^3)           </td><td>effect.power         </td><td>0.9154668            </td></tr>\n",
       "\t<tr><td>distance:height      </td><td>effect.power         </td><td>1.0000000            </td></tr>\n",
       "\t<tr><td>height:speed         </td><td>effect.power         </td><td>1.0000000            </td></tr>\n",
       "\t<tr><td>distance:speed       </td><td>effect.power         </td><td>1.0000000            </td></tr>\n",
       "\t<tr><td>distance:height:speed</td><td>effect.power         </td><td>1.0000000            </td></tr>\n",
       "\t<tr><td>(Intercept)          </td><td>parameter.power      </td><td>0.9925940            </td></tr>\n",
       "\t<tr><td>distance             </td><td>parameter.power      </td><td>0.9387701            </td></tr>\n",
       "\t<tr><td>height               </td><td>parameter.power      </td><td>0.9385410            </td></tr>\n",
       "\t<tr><td>speed                </td><td>parameter.power      </td><td>0.9311129            </td></tr>\n",
       "\t<tr><td>I(distance^2)        </td><td>parameter.power      </td><td>0.9971802            </td></tr>\n",
       "\t<tr><td>I(height^2)          </td><td>parameter.power      </td><td>0.9971809            </td></tr>\n",
       "\t<tr><td>I(speed^2)           </td><td>parameter.power      </td><td>0.9968171            </td></tr>\n",
       "\t<tr><td>I(distance^3)        </td><td>parameter.power      </td><td>0.9225294            </td></tr>\n",
       "\t<tr><td>I(height^3)          </td><td>parameter.power      </td><td>0.9221881            </td></tr>\n",
       "\t<tr><td>I(speed^3)           </td><td>parameter.power      </td><td>0.9154668            </td></tr>\n",
       "\t<tr><td>distance:height      </td><td>parameter.power      </td><td>1.0000000            </td></tr>\n",
       "\t<tr><td>height:speed         </td><td>parameter.power      </td><td>1.0000000            </td></tr>\n",
       "\t<tr><td>distance:speed       </td><td>parameter.power      </td><td>1.0000000            </td></tr>\n",
       "\t<tr><td>distance:height:speed</td><td>parameter.power      </td><td>1.0000000            </td></tr>\n",
       "</tbody>\n",
       "</table>\n"
      ],
      "text/latex": [
       "\\begin{tabular}{r|lll}\n",
       " parameter & type & power\\\\\n",
       "\\hline\n",
       "\t (Intercept)           & effect.power          & 0.9925940            \\\\\n",
       "\t distance              & effect.power          & 0.9387701            \\\\\n",
       "\t height                & effect.power          & 0.9385410            \\\\\n",
       "\t speed                 & effect.power          & 0.9311129            \\\\\n",
       "\t I(distance\\textasciicircum{}2)         & effect.power                            & 0.9971802                              \\\\\n",
       "\t I(height\\textasciicircum{}2)           & effect.power                            & 0.9971809                              \\\\\n",
       "\t I(speed\\textasciicircum{}2)            & effect.power                            & 0.9968171                              \\\\\n",
       "\t I(distance\\textasciicircum{}3)         & effect.power                            & 0.9225294                              \\\\\n",
       "\t I(height\\textasciicircum{}3)           & effect.power                            & 0.9221881                              \\\\\n",
       "\t I(speed\\textasciicircum{}3)            & effect.power                            & 0.9154668                              \\\\\n",
       "\t distance:height       & effect.power          & 1.0000000            \\\\\n",
       "\t height:speed          & effect.power          & 1.0000000            \\\\\n",
       "\t distance:speed        & effect.power          & 1.0000000            \\\\\n",
       "\t distance:height:speed & effect.power          & 1.0000000            \\\\\n",
       "\t (Intercept)           & parameter.power       & 0.9925940            \\\\\n",
       "\t distance              & parameter.power       & 0.9387701            \\\\\n",
       "\t height                & parameter.power       & 0.9385410            \\\\\n",
       "\t speed                 & parameter.power       & 0.9311129            \\\\\n",
       "\t I(distance\\textasciicircum{}2)         & parameter.power                         & 0.9971802                              \\\\\n",
       "\t I(height\\textasciicircum{}2)           & parameter.power                         & 0.9971809                              \\\\\n",
       "\t I(speed\\textasciicircum{}2)            & parameter.power                         & 0.9968171                              \\\\\n",
       "\t I(distance\\textasciicircum{}3)         & parameter.power                         & 0.9225294                              \\\\\n",
       "\t I(height\\textasciicircum{}3)           & parameter.power                         & 0.9221881                              \\\\\n",
       "\t I(speed\\textasciicircum{}3)            & parameter.power                         & 0.9154668                              \\\\\n",
       "\t distance:height       & parameter.power       & 1.0000000            \\\\\n",
       "\t height:speed          & parameter.power       & 1.0000000            \\\\\n",
       "\t distance:speed        & parameter.power       & 1.0000000            \\\\\n",
       "\t distance:height:speed & parameter.power       & 1.0000000            \\\\\n",
       "\\end{tabular}\n"
      ],
      "text/markdown": [
       "\n",
       "| parameter | type | power |\n",
       "|---|---|---|\n",
       "| (Intercept)           | effect.power          | 0.9925940             |\n",
       "| distance              | effect.power          | 0.9387701             |\n",
       "| height                | effect.power          | 0.9385410             |\n",
       "| speed                 | effect.power          | 0.9311129             |\n",
       "| I(distance^2)         | effect.power          | 0.9971802             |\n",
       "| I(height^2)           | effect.power          | 0.9971809             |\n",
       "| I(speed^2)            | effect.power          | 0.9968171             |\n",
       "| I(distance^3)         | effect.power          | 0.9225294             |\n",
       "| I(height^3)           | effect.power          | 0.9221881             |\n",
       "| I(speed^3)            | effect.power          | 0.9154668             |\n",
       "| distance:height       | effect.power          | 1.0000000             |\n",
       "| height:speed          | effect.power          | 1.0000000             |\n",
       "| distance:speed        | effect.power          | 1.0000000             |\n",
       "| distance:height:speed | effect.power          | 1.0000000             |\n",
       "| (Intercept)           | parameter.power       | 0.9925940             |\n",
       "| distance              | parameter.power       | 0.9387701             |\n",
       "| height                | parameter.power       | 0.9385410             |\n",
       "| speed                 | parameter.power       | 0.9311129             |\n",
       "| I(distance^2)         | parameter.power       | 0.9971802             |\n",
       "| I(height^2)           | parameter.power       | 0.9971809             |\n",
       "| I(speed^2)            | parameter.power       | 0.9968171             |\n",
       "| I(distance^3)         | parameter.power       | 0.9225294             |\n",
       "| I(height^3)           | parameter.power       | 0.9221881             |\n",
       "| I(speed^3)            | parameter.power       | 0.9154668             |\n",
       "| distance:height       | parameter.power       | 1.0000000             |\n",
       "| height:speed          | parameter.power       | 1.0000000             |\n",
       "| distance:speed        | parameter.power       | 1.0000000             |\n",
       "| distance:height:speed | parameter.power       | 1.0000000             |\n",
       "\n"
      ],
      "text/plain": [
       "   parameter             type            power    \n",
       "1  (Intercept)           effect.power    0.9925940\n",
       "2  distance              effect.power    0.9387701\n",
       "3  height                effect.power    0.9385410\n",
       "4  speed                 effect.power    0.9311129\n",
       "5  I(distance^2)         effect.power    0.9971802\n",
       "6  I(height^2)           effect.power    0.9971809\n",
       "7  I(speed^2)            effect.power    0.9968171\n",
       "8  I(distance^3)         effect.power    0.9225294\n",
       "9  I(height^3)           effect.power    0.9221881\n",
       "10 I(speed^3)            effect.power    0.9154668\n",
       "11 distance:height       effect.power    1.0000000\n",
       "12 height:speed          effect.power    1.0000000\n",
       "13 distance:speed        effect.power    1.0000000\n",
       "14 distance:height:speed effect.power    1.0000000\n",
       "15 (Intercept)           parameter.power 0.9925940\n",
       "16 distance              parameter.power 0.9387701\n",
       "17 height                parameter.power 0.9385410\n",
       "18 speed                 parameter.power 0.9311129\n",
       "19 I(distance^2)         parameter.power 0.9971802\n",
       "20 I(height^2)           parameter.power 0.9971809\n",
       "21 I(speed^2)            parameter.power 0.9968171\n",
       "22 I(distance^3)         parameter.power 0.9225294\n",
       "23 I(height^3)           parameter.power 0.9221881\n",
       "24 I(speed^3)            parameter.power 0.9154668\n",
       "25 distance:height       parameter.power 1.0000000\n",
       "26 height:speed          parameter.power 1.0000000\n",
       "27 distance:speed        parameter.power 1.0000000\n",
       "28 distance:height:speed parameter.power 1.0000000"
      ]
     },
     "metadata": {},
     "output_type": "display_data"
    }
   ],
   "source": [
    "eval_design(model=m3, design=d100, alpha=0.5)"
   ]
  },
  {
   "cell_type": "code",
   "execution_count": 67,
   "metadata": {},
   "outputs": [],
   "source": []
  }
 ],
 "metadata": {
  "kernelspec": {
   "display_name": "R",
   "language": "R",
   "name": "ir"
  },
  "language_info": {
   "codemirror_mode": "r",
   "file_extension": ".r",
   "mimetype": "text/x-r-source",
   "name": "R",
   "pygments_lexer": "r",
   "version": "3.6.1"
  }
 },
 "nbformat": 4,
 "nbformat_minor": 4
}
